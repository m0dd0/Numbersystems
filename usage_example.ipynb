{
 "cells": [
  {
   "cell_type": "code",
   "execution_count": 2,
   "metadata": {},
   "outputs": [],
   "source": [
    "from numbersystems import Value"
   ]
  },
  {
   "cell_type": "code",
   "execution_count": 7,
   "metadata": {},
   "outputs": [
    {
     "data": {
      "text/plain": [
       "value: w508d6qejxtdg4y5r3zarvary0c5xw7k\n",
       "decimal_value: 668631300771580858519448973337422070966705667030\n",
       "32\n",
       "alphabet: 'qpzry9x8gf2tvdw0s3jn54khce6mua7l'"
      ]
     },
     "execution_count": 7,
     "metadata": {},
     "output_type": "execute_result"
    }
   ],
   "source": [
    "BECH32_ALPHABET = \"qpzry9x8gf2tvdw0s3jn54khce6mua7l\"\n",
    "\n",
    "pub_key = Value(0x751e76e8199196d454941c45d1b3a323f1433bd6, base=16)\n",
    "pub_key.to(alphabet=BECH32_ALPHABET)"
   ]
  }
 ],
 "metadata": {
  "kernelspec": {
   "display_name": "crypto",
   "language": "python",
   "name": "python3"
  },
  "language_info": {
   "codemirror_mode": {
    "name": "ipython",
    "version": 3
   },
   "file_extension": ".py",
   "mimetype": "text/x-python",
   "name": "python",
   "nbconvert_exporter": "python",
   "pygments_lexer": "ipython3",
   "version": "3.10.13"
  }
 },
 "nbformat": 4,
 "nbformat_minor": 2
}
